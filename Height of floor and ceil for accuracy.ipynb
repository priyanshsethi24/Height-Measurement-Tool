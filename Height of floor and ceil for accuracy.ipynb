{
 "cells": [
  {
   "cell_type": "code",
   "execution_count": 1,
   "id": "93d2c3fa-d01c-4afb-8025-4bb6d5cfea7c",
   "metadata": {},
   "outputs": [
    {
     "name": "stdout",
     "output_type": "stream",
     "text": [
      "\n",
      "0: 800x608 1 750ml coke, 372.4ms\n",
      "Speed: 4.3ms preprocess, 372.4ms inference, 0.9ms postprocess per image at shape (1, 3, 800, 608)\n",
      "Detected Coca-Cola Bottle Height: 79.95 pixels\n",
      "Estimated Real-World Height: 24.00 cm\n"
     ]
    }
   ],
   "source": [
    "import cv2\n",
    "import torch\n",
    "from ultralytics import YOLO\n",
    "\n",
    "def detect_coke_bottle(image_path, model_path, real_height_cm=24):\n",
    "    \"\"\"\n",
    "    Detects a  Coca-Cola bottle and calculates its real-world height.\n",
    "    :param image_path: Path to the image.\n",
    "    :param model_path: Path to the trained YOLO model.\n",
    "    :param real_height_cm: Known real-world height of the  Coca-Cola bottle.\n",
    "    :return: Bounding box height in pixels and estimated real-world height.\n",
    "    \"\"\"\n",
    "    # Load the YOLO model\n",
    "    model = YOLO(model_path)\n",
    "    \n",
    "    # Read the image\n",
    "    image = cv2.imread(image_path)\n",
    "    \n",
    "    # Perform object detection\n",
    "    results = model(image)\n",
    "    \n",
    "    # Get the detected bounding boxes\n",
    "    for result in results:\n",
    "        for box in result.boxes:\n",
    "            x1, y1, x2, y2 = box.xyxy[0]  # Get bounding box coordinates\n",
    "            height_pixels = y2 - y1  # Calculate height in pixels\n",
    "            \n",
    "            # Calculate Pixel-to-CM ratio\n",
    "            pixel_to_cm_ratio = real_height_cm / height_pixels\n",
    "            estimated_real_height = height_pixels * pixel_to_cm_ratio\n",
    "            \n",
    "            # print(f\"Detected Coca-Cola Bottle Height: {height_pixels:.2f} pixels\")\n",
    "            # print(f\"Estimated Real-World Height: {estimated_real_height:.2f} cm\")\n",
    "            \n",
    "            return height_pixels, estimated_real_height\n",
    "    \n",
    "    print(\"No Coca-Cola bottle detected.\")\n",
    "    return None, None\n",
    "\n",
    "# Example Usage\n",
    "image_path = \"image_folder/image5.jpeg\"  # Change to your image path\n",
    "model_path = \"best (8).pt\"  # Path to your trained YOLO model\n",
    "height_pixels, estimated_real_height =detect_coke_bottle(image_path, model_path)\n",
    "\n",
    "print(f\"Detected Coca-Cola Bottle Height: {height_pixels:.2f} pixels\")\n",
    "print(f\"Estimated Real-World Height: {estimated_real_height:.2f} cm\")"
   ]
  },
  {
   "cell_type": "code",
   "execution_count": 2,
   "id": "ee662f6f-4257-4604-bfc8-197c7b30b52b",
   "metadata": {},
   "outputs": [],
   "source": [
    "import cv2\n",
    "import torch\n",
    "import numpy as np\n",
    "from ultralytics import YOLO\n",
    "\n",
    "def load_model(model_path):\n",
    "    \"\"\"Loads the YOLO model.\"\"\"\n",
    "    return YOLO(model_path)"
   ]
  },
  {
   "cell_type": "code",
   "execution_count": 3,
   "id": "9d978f53-5444-4a2a-8275-6414f611ed9b",
   "metadata": {},
   "outputs": [],
   "source": [
    "def detect_objects(model, image_path):\n",
    "    \"\"\"Detects objects in the given image.\"\"\"\n",
    "    image = cv2.imread(image_path)\n",
    "    results = model(image)\n",
    "    return results, image"
   ]
  },
  {
   "cell_type": "code",
   "execution_count": 4,
   "id": "6c75366f-57ad-414a-a304-b0f4c6d0f1c9",
   "metadata": {},
   "outputs": [],
   "source": [
    "def get_average_coordinate(results, target_class):\n",
    "    \"\"\"Finds the median y-coordinate of the detected class to stabilize detection.\"\"\"\n",
    "    y_coords = []\n",
    "    for result in results:\n",
    "        for box in result.boxes:\n",
    "            cls = int(box.cls.cpu().numpy().item())\n",
    "            if cls == target_class:\n",
    "                y_min, y_max = int(box.xyxy[0][1]), int(box.xyxy[0][3])\n",
    "                y_coords.append((y_min, y_max))\n",
    "    \n",
    "    if not y_coords:\n",
    "        return None\n",
    "    \n",
    "    median_y_min = np.median([y[0] for y in y_coords])\n",
    "    median_y_max = np.median([y[1] for y in y_coords])\n",
    "    return median_y_min, median_y_max\n"
   ]
  },
  {
   "cell_type": "code",
   "execution_count": 5,
   "id": "92d9edfb-58b5-4c05-b4f9-76ea61ca62ba",
   "metadata": {},
   "outputs": [],
   "source": [
    "def calculate_height(ceiling_y, floor_y, calibration_obj=None):\n",
    "    \"\"\"Calculates height in pixels or real-world units if a calibration object is given.\"\"\"\n",
    "    if ceiling_y is None or floor_y is None:\n",
    "        print(\"Ceiling or Floor not detected correctly!\")\n",
    "        return None\n",
    "    \n",
    "    pixel_height = floor_y - ceiling_y\n",
    "    \n",
    "    if calibration_obj:\n",
    "        real_height, obj_pixel_height = calibration_obj\n",
    "        pixel_to_cm_ratio = real_height / obj_pixel_height\n",
    "        real_ceiling_height = pixel_height * pixel_to_cm_ratio\n",
    "        return real_ceiling_height\n",
    "    \n",
    "    return pixel_height  # Return only pixel height if no calibration object"
   ]
  },
  {
   "cell_type": "code",
   "execution_count": 6,
   "id": "62985366-521f-4612-926d-36c6a5636951",
   "metadata": {},
   "outputs": [],
   "source": [
    "def visualize(image, ceiling_y, floor_y):\n",
    "    \"\"\"Draws a vertical line from ceiling to floor for visualization.\"\"\"\n",
    "    img_height, img_width, _ = image.shape\n",
    "    center_x = img_width // 2  # Midpoint in width\n",
    "\n",
    "    cv2.line(image, (center_x, int(ceiling_y)), (center_x, int(floor_y)), (0, 255, 0), 2)  # Green line\n",
    "    output_path = \"output.jpg\"\n",
    "    cv2.imwrite(output_path, image)\n",
    "    print(f\"Image saved with vertical line at: {output_path}\")"
   ]
  },
  {
   "cell_type": "code",
   "execution_count": 9,
   "id": "1217a0cf-ee44-4986-97c7-2ef532d8e04c",
   "metadata": {},
   "outputs": [
    {
     "name": "stdout",
     "output_type": "stream",
     "text": [
      "\n",
      "0: 640x480 1 ceiling, 3 floors, 2 wallss, 321.3ms\n",
      "Speed: 2.2ms preprocess, 321.3ms inference, 8.3ms postprocess per image at shape (1, 3, 640, 480)\n",
      "Pixel Height: 1273.0 pixels\n",
      "Ceiling Height: 321.60 cm\n",
      "Image saved with vertical line at: output.jpg\n"
     ]
    }
   ],
   "source": [
    "# Example usage\n",
    "model_path = \"best (5).pt\"  # Path to trained YOLO model\n",
    "  # Input image path\n",
    "calibration_obj = (estimated_real_height, height_pixel)  # Example: (real-world height in cm, pixel height)\n",
    "\n",
    "# Load model\n",
    "model = load_model(model_path)\n",
    "results, image = detect_objects(model, image_path)\n",
    "\n",
    "# Get median ceiling and floor coordinates\n",
    "ceiling_y, _ = get_average_coordinate(results, target_class=0)  # Assuming class 0 is ceiling\n",
    "_, floor_y = get_average_coordinate(results, target_class=1)  # Assuming class 1 is floor\n",
    "\n",
    "if ceiling_y is not None and floor_y is not None:\n",
    "    pixel_height = floor_y - ceiling_y\n",
    "    print(f\"Pixel Height: {pixel_height} pixels\")\n",
    "\n",
    "    # Example calibration using a Coca-Cola bottle\n",
    "    # calibration_obj = (24, 150)  # (Real-world height in cm, detected pixel height)\n",
    "    height = calculate_height(ceiling_y, floor_y, calibration_obj)\n",
    "    print(f\"Ceiling Height: {height:.2f} cm\")\n",
    "    \n",
    "    visualize(image, ceiling_y, floor_y)"
   ]
  },
  {
   "cell_type": "code",
   "execution_count": null,
   "id": "4681e5a9-cbe5-4629-8e7e-32a6c61e5c9c",
   "metadata": {},
   "outputs": [],
   "source": []
  },
  {
   "cell_type": "code",
   "execution_count": null,
   "id": "28b74736-3da8-40ac-a7fb-ec8f7f9300ca",
   "metadata": {},
   "outputs": [],
   "source": []
  },
  {
   "cell_type": "code",
   "execution_count": null,
   "id": "3f4d304c-469a-464e-b36d-f187e13558a7",
   "metadata": {},
   "outputs": [],
   "source": []
  },
  {
   "cell_type": "code",
   "execution_count": null,
   "id": "9531a70b-fb79-49f9-8818-696182cead4e",
   "metadata": {},
   "outputs": [],
   "source": []
  }
 ],
 "metadata": {
  "kernelspec": {
   "display_name": "Python 3 (ipykernel)",
   "language": "python",
   "name": "python3"
  },
  "language_info": {
   "codemirror_mode": {
    "name": "ipython",
    "version": 3
   },
   "file_extension": ".py",
   "mimetype": "text/x-python",
   "name": "python",
   "nbconvert_exporter": "python",
   "pygments_lexer": "ipython3",
   "version": "3.11.9"
  }
 },
 "nbformat": 4,
 "nbformat_minor": 5
}

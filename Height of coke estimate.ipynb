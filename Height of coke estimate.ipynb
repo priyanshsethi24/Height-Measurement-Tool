{
 "cells": [
  {
   "cell_type": "code",
   "execution_count": null,
   "id": "ac78dd8b-aaed-4de9-a85e-08b39dec1fac",
   "metadata": {},
   "outputs": [],
   "source": []
  },
  {
   "cell_type": "code",
   "execution_count": null,
   "id": "6a5804ec-47cc-446f-b5de-32639f5daf3b",
   "metadata": {},
   "outputs": [],
   "source": [
    "\n",
    "\n"
   ]
  },
  {
   "cell_type": "code",
   "execution_count": 1,
   "id": "e85aeef6-1802-47ce-ad4b-d1c67abe3bc8",
   "metadata": {},
   "outputs": [
    {
     "name": "stdout",
     "output_type": "stream",
     "text": [
      "\n",
      "0: 800x608 1 750ml coke, 348.6ms\n",
      "Speed: 4.3ms preprocess, 348.6ms inference, 1.0ms postprocess per image at shape (1, 3, 800, 608)\n",
      "Detected Coca-Cola Bottle Height: 70.92 pixels\n",
      "Estimated Real-World Height: 24.00 cm\n"
     ]
    }
   ],
   "source": [
    "import cv2\n",
    "import torch\n",
    "from ultralytics import YOLO\n",
    "\n",
    "def detect_coke_bottle(image_path, model_path, real_height_cm=24):\n",
    "    \"\"\"\n",
    "    Detects a  Coca-Cola bottle and calculates its real-world height.\n",
    "    :param image_path: Path to the image.\n",
    "    :param model_path: Path to the trained YOLO model.\n",
    "    :param real_height_cm: Known real-world height of the  Coca-Cola bottle.\n",
    "    :return: Bounding box height in pixels and estimated real-world height.\n",
    "    \"\"\"\n",
    "    # Load the YOLO model\n",
    "    model = YOLO(model_path)\n",
    "    \n",
    "    # Read the image\n",
    "    image = cv2.imread(image_path)\n",
    "    \n",
    "    # Perform object detection\n",
    "    results = model(image)\n",
    "    \n",
    "    # Get the detected bounding boxes\n",
    "    for result in results:\n",
    "        for box in result.boxes:\n",
    "            x1, y1, x2, y2 = box.xyxy[0]  # Get bounding box coordinates\n",
    "            height_pixels = y2 - y1  # Calculate height in pixels\n",
    "            \n",
    "            # Calculate Pixel-to-CM ratio\n",
    "            pixel_to_cm_ratio = real_height_cm / height_pixels\n",
    "            estimated_real_height = height_pixels * pixel_to_cm_ratio\n",
    "            \n",
    "            # print(f\"Detected Coca-Cola Bottle Height: {height_pixels:.2f} pixels\")\n",
    "            # print(f\"Estimated Real-World Height: {estimated_real_height:.2f} cm\")\n",
    "            \n",
    "            return height_pixels, estimated_real_height\n",
    "    \n",
    "    print(\"No Coca-Cola bottle detected.\")\n",
    "    return None, None\n",
    "\n",
    "# Example Usage\n",
    "image_path = \"Fine tune images/Nearly 3.5m from coke/image11.jpeg\"  # Change to your image path\n",
    "model_path = \"best (8).pt\"  # Path to your trained YOLO model\n",
    "height_pixels, estimated_real_height =detect_coke_bottle(image_path, model_path)\n",
    "\n",
    "print(f\"Detected Coca-Cola Bottle Height: {height_pixels:.2f} pixels\")\n",
    "print(f\"Estimated Real-World Height: {estimated_real_height:.2f} cm\")"
   ]
  },
  {
   "cell_type": "code",
   "execution_count": 2,
   "id": "5874f5cb-9ac0-473e-a3ce-532fd3b26863",
   "metadata": {},
   "outputs": [],
   "source": [
    "import torch\n",
    "import cv2\n",
    "import numpy as np\n",
    "from ultralytics import YOLO"
   ]
  },
  {
   "cell_type": "code",
   "execution_count": 3,
   "id": "c551646a-8417-4be3-a1a8-489b0cae8367",
   "metadata": {},
   "outputs": [],
   "source": [
    "def load_model(model_path):\n",
    "    model = YOLO(model_path)  # Load YOLO model\n",
    "    return model"
   ]
  },
  {
   "cell_type": "code",
   "execution_count": 4,
   "id": "764e5048-93ec-4b14-8c57-0ad601b295ba",
   "metadata": {},
   "outputs": [],
   "source": [
    "def detect_objects(model, image_path):\n",
    "    image = cv2.imread(image_path)\n",
    "    results = model(image)  # Perform object detection\n",
    "    return results, image\n"
   ]
  },
  {
   "cell_type": "code",
   "execution_count": 5,
   "id": "36762625-5e2f-49ff-a55e-ac4e62eaceb8",
   "metadata": {},
   "outputs": [],
   "source": [
    "\n",
    "\n",
    "def get_ceiling_floor_coordinates(results):\n",
    "    ceiling_y, floor_y = None, None\n",
    "    \n",
    "    for result in results:\n",
    "        for box in result.boxes:\n",
    "            cls = int(box.cls.cpu().numpy().item())  # Extract a single element safely\n",
    "            y_min, y_max = int(box.xyxy[0][1]), int(box.xyxy[0][3])\n",
    "            \n",
    "            if cls == 0:  # Assuming class 0 is 'ceiling'\n",
    "                ceiling_y = y_min\n",
    "            elif cls == 1:  # Assuming class 1 is 'floor'\n",
    "                floor_y = y_max\n",
    "    \n",
    "    return ceiling_y, floor_y"
   ]
  },
  {
   "cell_type": "code",
   "execution_count": 6,
   "id": "9d49f9fb-77ee-40a4-ae75-50812b186d88",
   "metadata": {},
   "outputs": [],
   "source": [
    "def calculate_height(ceiling_y, floor_y, calibration_obj=None):\n",
    "    if ceiling_y is None or floor_y is None:\n",
    "        print(\"Ceiling or Floor not detected!\")\n",
    "        return None\n",
    "    \n",
    "    pixel_height = floor_y - ceiling_y\n",
    "    \n",
    "    if calibration_obj:\n",
    "        real_height, obj_pixel_height = calibration_obj\n",
    "        pixel_to_cm_ratio = real_height / obj_pixel_height\n",
    "        real_ceiling_height = pixel_height * pixel_to_cm_ratio\n",
    "        return real_ceiling_height\n",
    "    \n",
    "    return pixel_height  # Return only pixel height if no calibration object"
   ]
  },
  {
   "cell_type": "code",
   "execution_count": 7,
   "id": "dc39a079-3711-4607-9e80-caa6c6d0d0b3",
   "metadata": {},
   "outputs": [
    {
     "name": "stdout",
     "output_type": "stream",
     "text": [
      "\n",
      "0: 640x480 3 ceilings, 6 floors, 3 wallss, 333.6ms\n",
      "Speed: 2.8ms preprocess, 333.6ms inference, 17.2ms postprocess per image at shape (1, 3, 640, 480)\n",
      "Pixel Height: 1275 pixels\n",
      "Ceiling Height: 431.4547119140625 cm\n"
     ]
    }
   ],
   "source": [
    "# Example usage\n",
    "model_path = \"best (5).pt\"  # Path to trained YOLO model\n",
    "  # Input image path\n",
    "calibration_obj = (estimated_real_height, height_pixels)  # Example: (real-world height in cm, pixel height)\n",
    "\n",
    "model = load_model(model_path)\n",
    "results, image = detect_objects(model, image_path)\n",
    "ceiling_y, floor_y = get_ceiling_floor_coordinates(results)\n",
    "pixel_height = floor_y - ceiling_y  # Calculate pixel height\n",
    "print(f\"Pixel Height: {pixel_height} pixels\")  # Output the result\n",
    "\n",
    "height = calculate_height(ceiling_y, floor_y, calibration_obj)\n",
    "print(f\"Ceiling Height: {height} cm\" if calibration_obj else f\"Ceiling Height: {height} pixels\")\n"
   ]
  },
  {
   "cell_type": "code",
   "execution_count": 8,
   "id": "f101e74a-8ca4-494e-84a7-2fc2df63f3d9",
   "metadata": {},
   "outputs": [
    {
     "name": "stdout",
     "output_type": "stream",
     "text": [
      "Image saved with vertical line at: output.jpg\n",
      "Pixel Height: 1275 pixels\n",
      "Ceiling Height: 431.4547119140625 cm\n"
     ]
    }
   ],
   "source": [
    "import cv2\n",
    "\n",
    "# Calculate pixel height\n",
    "pixel_height = floor_y - ceiling_y\n",
    "\n",
    "if ceiling_y is not None and floor_y is not None:\n",
    "    # Draw a vertical line at the center of the image\n",
    "    img_height, img_width, _ = image.shape\n",
    "    center_x = img_width // 2  # Midpoint in width\n",
    "\n",
    "    cv2.line(image, (center_x, int(ceiling_y)), (center_x, int(floor_y)), (0, 255, 0), 2)  # Green line\n",
    "\n",
    "    # Save the image\n",
    "    output_path = \"output.jpg\"\n",
    "    cv2.imwrite(output_path, image)\n",
    "    print(f\"Image saved with vertical line at: {output_path}\")\n",
    "\n",
    "# Output pixel height\n",
    "print(f\"Pixel Height: {pixel_height} pixels\")\n",
    "\n",
    "# Calculate real-world height if calibration is provided\n",
    "height = calculate_height(ceiling_y, floor_y, calibration_obj)\n",
    "print(f\"Ceiling Height: {height} cm\" if calibration_obj else f\"Ceiling Height: {height} pixels\")\n"
   ]
  }
 ],
 "metadata": {
  "kernelspec": {
   "display_name": "Python 3 (ipykernel)",
   "language": "python",
   "name": "python3"
  },
  "language_info": {
   "codemirror_mode": {
    "name": "ipython",
    "version": 3
   },
   "file_extension": ".py",
   "mimetype": "text/x-python",
   "name": "python",
   "nbconvert_exporter": "python",
   "pygments_lexer": "ipython3",
   "version": "3.11.9"
  }
 },
 "nbformat": 4,
 "nbformat_minor": 5
}

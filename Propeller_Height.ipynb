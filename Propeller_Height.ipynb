{
 "cells": [
  {
   "cell_type": "code",
   "execution_count": 1,
   "id": "312c12bb-c84a-44fb-89b5-38129493a738",
   "metadata": {},
   "outputs": [
    {
     "name": "stdout",
     "output_type": "stream",
     "text": [
      "\n",
      "0: 800x608 1 750ml coke, 355.1ms\n",
      "Speed: 4.2ms preprocess, 355.1ms inference, 0.9ms postprocess per image at shape (1, 3, 800, 608)\n",
      "Detected Coca-Cola Bottle Height: 238.16 pixels\n",
      "Estimated Real-World Height: 24.00 cm\n"
     ]
    }
   ],
   "source": [
    "import cv2\n",
    "import torch\n",
    "from ultralytics import YOLO\n",
    "\n",
    "def detect_coke_bottle(image_path, model_path, real_height_cm=24):\n",
    "    \"\"\"\n",
    "    Detects a  Coca-Cola bottle and calculates its real-world height.\n",
    "    :param image_path: Path to the image.\n",
    "    :param model_path: Path to the trained YOLO model.\n",
    "    :param real_height_cm: Known real-world height of the  Coca-Cola bottle.\n",
    "    :return: Bounding box height in pixels and estimated real-world height.\n",
    "    \"\"\"\n",
    "    # Load the YOLO model\n",
    "    model = YOLO(model_path)\n",
    "    \n",
    "    # Read the image\n",
    "    image = cv2.imread(image_path)\n",
    "    \n",
    "    # Perform object detection\n",
    "    results = model(image)\n",
    "    \n",
    "    # Get the detected bounding boxes\n",
    "    for result in results:\n",
    "        for box in result.boxes:\n",
    "            x1, y1, x2, y2 = box.xyxy[0]  # Get bounding box coordinates\n",
    "            height_pixels = y2 - y1  # Calculate height in pixels\n",
    "            \n",
    "            # Calculate Pixel-to-CM ratio\n",
    "            pixel_to_cm_ratio = real_height_cm / height_pixels\n",
    "            estimated_real_height = height_pixels * pixel_to_cm_ratio\n",
    "            \n",
    "            # print(f\"Detected Coca-Cola Bottle Height: {height_pixels:.2f} pixels\")\n",
    "            # print(f\"Estimated Real-World Height: {estimated_real_height:.2f} cm\")\n",
    "            \n",
    "            return height_pixels, estimated_real_height\n",
    "    \n",
    "    print(\"No Coca-Cola bottle detected.\")\n",
    "    return None, None\n",
    "\n",
    "# Example Usage\n",
    "image_path = \"Propellers test/IMG_3104.JPEG\"  # Change to your image path\n",
    "model_path = \"best (8).pt\"  # Path to your trained YOLO model\n",
    "height_pixels, estimated_real_height =detect_coke_bottle(image_path, model_path)\n",
    "\n",
    "print(f\"Detected Coca-Cola Bottle Height: {height_pixels:.2f} pixels\")\n",
    "print(f\"Estimated Real-World Height: {estimated_real_height:.2f} cm\")"
   ]
  },
  {
   "cell_type": "code",
   "execution_count": null,
   "id": "c6bfb7bf-05d9-4fc4-9a79-7e6ffff1491d",
   "metadata": {},
   "outputs": [],
   "source": []
  },
  {
   "cell_type": "code",
   "execution_count": 2,
   "id": "62010f8c-429f-458e-b7c6-4bec7c63fc5e",
   "metadata": {},
   "outputs": [],
   "source": [
    "import torch\n",
    "import cv2\n",
    "import numpy as np\n",
    "from ultralytics import YOLO"
   ]
  },
  {
   "cell_type": "code",
   "execution_count": 3,
   "id": "c6b2775a-494f-48f7-a6b8-33f784874829",
   "metadata": {},
   "outputs": [],
   "source": [
    "def load_model(model_path):\n",
    "    model = YOLO(model_path)  # Load YOLO model\n",
    "    return model"
   ]
  },
  {
   "cell_type": "code",
   "execution_count": 4,
   "id": "dfd8ec27-d38a-4f19-b399-d363c0bdadc6",
   "metadata": {},
   "outputs": [],
   "source": [
    "def detect_objects(model, image_path):\n",
    "    image = cv2.imread(image_path)\n",
    "    results = model(image)  # Perform object detection\n",
    "    return results, image\n",
    "\n"
   ]
  },
  {
   "cell_type": "code",
   "execution_count": 5,
   "id": "0341e08e-3b54-479d-b217-4243f41827e3",
   "metadata": {},
   "outputs": [],
   "source": [
    "def get_floor_coordinates(results):\n",
    "    \"\"\"\n",
    "    Extracts the top Y-coordinate of the floor from Model (best(5).pt).\n",
    "    \"\"\"\n",
    "    floor_y_top = None\n",
    "    \n",
    "    for result in results:\n",
    "        for box in result.boxes:\n",
    "            class_id = int(box.cls.cpu().numpy().item())  # Get class ID\n",
    "            y_min = int(box.xyxy[0][1])  # Top Y-coordinate\n",
    "            \n",
    "            if class_id == 1:  # Assuming class 1 is \"floor\"\n",
    "                floor_y_top = y_min  # Top Y-coordinate of floor\n",
    "    \n",
    "    return floor_y_top"
   ]
  },
  {
   "cell_type": "code",
   "execution_count": 6,
   "id": "7d187e87-91c8-445d-bed8-10a3fa9318d3",
   "metadata": {},
   "outputs": [],
   "source": [
    "def get_propeller_coordinates(results):\n",
    "    \"\"\"\n",
    "    Extracts the bottom Y-coordinates of multiple propellers from Model (best(9).pt).\n",
    "    \"\"\"\n",
    "    propeller_y_bottoms = []  # List to store multiple propeller bottom Y-coordinates\n",
    "    \n",
    "    for result in results:\n",
    "        for box in result.boxes:\n",
    "            class_id = int(box.cls.cpu().numpy().item())  # Get class ID\n",
    "            y_max = int(box.xyxy[0][3])  # Bottom Y-coordinate\n",
    "            \n",
    "            if class_id == 0:  # Assuming class 0 is \"propeller\"\n",
    "                propeller_y_bottoms.append(y_max)  # Store bottom Y-coordinate\n",
    "    \n",
    "    return propeller_y_bottoms"
   ]
  },
  {
   "cell_type": "code",
   "execution_count": null,
   "id": "677d9f99-c9a8-4592-bed5-fceaf1096481",
   "metadata": {},
   "outputs": [],
   "source": []
  },
  {
   "cell_type": "code",
   "execution_count": 7,
   "id": "9b33b47a-959a-491e-b9fe-5f644314b26a",
   "metadata": {},
   "outputs": [],
   "source": [
    "def calculate_height(propeller_y, floor_y, calibration_obj=None):\n",
    "    \"\"\"\n",
    "    Calculates the real-world height from the floor to each propeller.\n",
    "    Uses a calibration object if available.\n",
    "    \"\"\"\n",
    "    if propeller_y is None or floor_y is None:\n",
    "        print(\"Propeller or Floor not detected!\")\n",
    "        return None\n",
    "    \n",
    "    pixel_height = propeller_y - floor_y  # Distance in pixels\n",
    "    \n",
    "    if calibration_obj:\n",
    "        real_height, obj_pixel_height = calibration_obj\n",
    "        pixel_to_cm_ratio = real_height / obj_pixel_height\n",
    "        real_propeller_height = pixel_height * pixel_to_cm_ratio\n",
    "        return real_propeller_height\n",
    "    \n",
    "    return pixel_height  # Returns pixels if no calibration object"
   ]
  },
  {
   "cell_type": "code",
   "execution_count": 8,
   "id": "8d73672b-48cf-4978-8ee1-f8e13b36e06c",
   "metadata": {},
   "outputs": [],
   "source": [
    "def display_propeller(image, propeller_boxes):\n",
    "    \"\"\"\n",
    "    Displays the detected propeller(s) on the image.\n",
    "    \"\"\"\n",
    "    for (x_min, y_min, x_max, y_max) in propeller_boxes:\n",
    "        cropped_propeller = image[y_min:y_max, x_min:x_max]  # Crop detected propeller\n",
    "        cv2.imshow(\"Detected Propeller\", cropped_propeller)  # Show propeller\n",
    "        cv2.waitKey(0)  # Wait for key press\n",
    "        cv2.destroyAllWindows()  # Close window after key press"
   ]
  },
  {
   "cell_type": "code",
   "execution_count": 9,
   "id": "f3f75fb3-54ed-4880-a9e9-be23578212b0",
   "metadata": {},
   "outputs": [
    {
     "name": "stdout",
     "output_type": "stream",
     "text": [
      "\n",
      "0: 640x480 1 ceiling, 3 floors, 4 wallss, 328.7ms\n",
      "Speed: 4.0ms preprocess, 328.7ms inference, 11.4ms postprocess per image at shape (1, 3, 640, 480)\n",
      "\n",
      "0: 800x608 3 Propellers detection - v1 2025-02-20 11-43ams, 321.9ms\n",
      "Speed: 4.5ms preprocess, 321.9ms inference, 0.7ms postprocess per image at shape (1, 3, 800, 608)\n",
      "\n",
      "Image: Propellers test/IMG_3104.JPEG\n",
      "  Propeller 1:\n",
      "    - Pixel Height from Floor: -1699 pixels\n",
      "    - Real-World Height from Floor: -171.21 cm\n",
      "  Propeller 2:\n",
      "    - Pixel Height from Floor: -1364 pixels\n",
      "    - Real-World Height from Floor: -137.45 cm\n",
      "  Propeller 3:\n",
      "    - Pixel Height from Floor: -1316 pixels\n",
      "    - Real-World Height from Floor: -132.62 cm\n"
     ]
    },
    {
     "data": {
      "text/plain": [
       "'if not propeller_y_bottoms or floor_y_top is None:\\n    print(f\"No propellers or floor detected in {image_path}\")\\nelse:\\n    print(f\"\\nImage: {image_path}\")\\n    display_propeller(image, propeller_boxes)  # Display detected propeller'"
      ]
     },
     "execution_count": 9,
     "metadata": {},
     "output_type": "execute_result"
    }
   ],
   "source": [
    "import os \n",
    "# Example usage\n",
    "model_floor_path = \"best (5).pt\"  # Model detecting floor, ceiling, wall\n",
    "model_propeller_path = \"best (9).pt\"  # Model detecting propellers\n",
    "# image_path = \"Propellers test/\"  # Folder containing multiple images\n",
    "\n",
    "# Calibration object (Coca-Cola bottle: 24 cm, detected height in pixels)\n",
    "calibration_obj = (estimated_real_height,height_pixels)  # (Real height in cm, detected height in pixels)  height_pixels, estimated_real_height\n",
    "\n",
    "# Load YOLO models\n",
    "floor_model = load_model(model_floor_path)\n",
    "propeller_model = load_model(model_propeller_path)\n",
    "\n",
    "\n",
    "# Detect floor using model best(5).pt\n",
    "floor_results, _ = detect_objects(floor_model, image_path)\n",
    "floor_y_top = get_floor_coordinates(floor_results)\n",
    "\n",
    "# Detect propellers using model best(9).pt\n",
    "propeller_results, _ = detect_objects(propeller_model, image_path)\n",
    "propeller_y_bottoms = get_propeller_coordinates(propeller_results)\n",
    "\n",
    "if not propeller_y_bottoms or floor_y_top is None:\n",
    "    print(f\"No propellers or floor detected in {image_name}\")\n",
    "    exit()\n",
    "\n",
    "print(f\"\\nImage: {image_path}\")\n",
    "\n",
    "    # Calculate heights for each detected propeller\n",
    "for i, propeller_y_bottom in enumerate(propeller_y_bottoms):\n",
    "    pixel_height = propeller_y_bottom - floor_y_top\n",
    "    real_height = calculate_height(propeller_y_bottom, floor_y_top, calibration_obj)\n",
    "        \n",
    "    print(f\"  Propeller {i+1}:\")\n",
    "    print(f\"    - Pixel Height from Floor: {pixel_height} pixels\")\n",
    "    print(f\"    - Real-World Height from Floor: {real_height:.2f} cm\")\n",
    "\n",
    "# propeller_boxes = get_propeller_coordinates(propeller_results)\n",
    "\n",
    "\n",
    "\n",
    "'''if not propeller_y_bottoms or floor_y_top is None:\n",
    "    print(f\"No propellers or floor detected in {image_path}\")\n",
    "else:\n",
    "    print(f\"\\nImage: {image_path}\")\n",
    "    display_propeller(image, propeller_boxes)  # Display detected propeller'''"
   ]
  },
  {
   "cell_type": "code",
   "execution_count": null,
   "id": "b15902eb-8e8a-4c5b-be6e-69932cd68293",
   "metadata": {},
   "outputs": [],
   "source": []
  },
  {
   "cell_type": "code",
   "execution_count": null,
   "id": "43bc66c6-31e0-4dda-ac63-0b444f53b795",
   "metadata": {},
   "outputs": [],
   "source": [
    "'''# Example usage\n",
    "model_path = \"best.pt\"  # Path to trained YOLO model\n",
    "image_folder = \"Test_images/\"  # Folder containing multiple images\n",
    "\n",
    "# Calibration object (Coca-Cola bottle: 24 cm, detected height in pixels)\n",
    "calibration_obj = (24, 120)  # (Real height in cm, detected height in pixels)\n",
    "\n",
    "# Load YOLO model\n",
    "model = load_model(model_path)\n",
    "\n",
    "# Process multiple images\n",
    "for image_name in os.listdir(image_folder):\n",
    "    image_path = os.path.join(image_folder, image_name)\n",
    "\n",
    "    # Detect objects\n",
    "    results, image = detect_objects(model, image_path)\n",
    "\n",
    "    # Get multiple propeller bottom coordinates and floor top coordinate\n",
    "    propeller_y_bottoms, floor_y_top = get_propeller_floor_coordinates(results)\n",
    "\n",
    "    if not propeller_y_bottoms or floor_y_top is None:\n",
    "        print(f\"No propellers or floor detected in {image_name}\")\n",
    "        continue\n",
    "\n",
    "    print(f\"\\nImage: {image_name}\")\n",
    "    \n",
    "    # Calculate heights for each detected propeller\n",
    "    for i, propeller_y_bottom in enumerate(propeller_y_bottoms):\n",
    "        pixel_height = propeller_y_bottom - floor_y_top\n",
    "        real_height = calculate_height(propeller_y_bottom, floor_y_top, calibration_obj)\n",
    "        \n",
    "        print(f\"  Propeller {i+1}:\")\n",
    "        print(f\"    - Pixel Height from Floor: {pixel_height} pixels\")\n",
    "        print(f\"    - Real-World Height from Floor: {real_height:.2f} cm\")'''"
   ]
  }
 ],
 "metadata": {
  "kernelspec": {
   "display_name": "Python 3 (ipykernel)",
   "language": "python",
   "name": "python3"
  },
  "language_info": {
   "codemirror_mode": {
    "name": "ipython",
    "version": 3
   },
   "file_extension": ".py",
   "mimetype": "text/x-python",
   "name": "python",
   "nbconvert_exporter": "python",
   "pygments_lexer": "ipython3",
   "version": "3.10.12"
  }
 },
 "nbformat": 4,
 "nbformat_minor": 5
}
